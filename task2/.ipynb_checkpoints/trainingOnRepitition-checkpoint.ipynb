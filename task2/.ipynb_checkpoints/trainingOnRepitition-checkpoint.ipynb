{
 "cells": [
  {
   "cell_type": "markdown",
   "id": "a57e61a9",
   "metadata": {},
   "source": [
    "Written by Mink Spronk (GitHub: Minko1998) for SimpleText @ CLEF 2022"
   ]
  },
  {
   "cell_type": "code",
   "execution_count": null,
   "id": "4eee54ee",
   "metadata": {},
   "outputs": [],
   "source": [
    "import pandas as pd\n",
    "import numpy as np\n",
    "df = pd.read_csv(\"simpletext_task2_train.csv\")\n",
    "df.head()\n",
    "df_without_dups = df.drop_duplicates(subset = ['source_snt'])"
   ]
  },
  {
   "cell_type": "code",
   "execution_count": null,
   "id": "39aa373a",
   "metadata": {},
   "outputs": [],
   "source": [
    "text = df_without_dups.source_snt.to_list()\n",
    "word_count = {}\n",
    "\n",
    "for line in text:\n",
    "    line = line.split()\n",
    "    for word in line:\n",
    "        word.strip()\n",
    "        if word not in word_count:\n",
    "            word_count[word] = 1\n",
    "        else:\n",
    "            word_count[word] += 1\n",
    "word_count = dict(sorted(word_count.items(), key=lambda item: item[1], reverse = True))\n",
    "word_count"
   ]
  },
  {
   "cell_type": "code",
   "execution_count": null,
   "id": "c1c2ba98",
   "metadata": {},
   "outputs": [],
   "source": [
    "!python -m spacy download en_core_web_sm"
   ]
  },
  {
   "cell_type": "code",
   "execution_count": null,
   "id": "d5a65437",
   "metadata": {},
   "outputs": [],
   "source": [
    "import spacy\n",
    "sp = spacy.load('en_core_web_sm')\n",
    "\n",
    "\n",
    "pos_score = {}\n",
    "for i, line in enumerate(df_without_dups.source_snt):\n",
    "    pos_line = sp(line)\n",
    "    line = line.split()\n",
    "    \n",
    "    per_line.append([])\n",
    "    for j, word in enumerate(line):\n",
    "        word.strip()\n",
    "        pos_word = pos_line[j].pos_\n",
    "        \n",
    "        if word not in pos_score:\n",
    "            pos_score[word] = 0\n",
    "        \n",
    "        # Nouns are considered most complicated in general\n",
    "        if pos_word == \"NOUN\":\n",
    "            pass\n",
    "        # Followed by verbs\n",
    "        if pos_word == \"VERB\":\n",
    "            pos_score[word] += .5\n",
    "        # Ending with adjectives\n",
    "        if pos_word == \"ADJ\":\n",
    "            pos_score[word] += 1\n",
    "        else:\n",
    "            pos_score[word] += 2\n",
    "\n",
    "# adjusting for the times each word is used\n",
    "for word in pos_score:\n",
    "    pos_score[word] = pos_score[word] // word_count[word]"
   ]
  },
  {
   "cell_type": "code",
   "execution_count": null,
   "id": "16e31a0e",
   "metadata": {},
   "outputs": [],
   "source": [
    "from collections import Counter\n",
    "\n",
    "final_score = Counter(pos_score) + Counter(word_count)\n",
    "final_score\n"
   ]
  },
  {
   "cell_type": "code",
   "execution_count": 121,
   "id": "5e1180dd",
   "metadata": {},
   "outputs": [
    {
     "data": {
      "image/png": "[encoded data removed]",
      "text/plain": [
       "<Figure size 360x360 with 1 Axes>"
      ]
     },
     "metadata": {
      "needs_background": "light"
     },
     "output_type": "display_data"
    }
   ],
   "source": [
    "import seaborn as sns\n",
    "import matplotlib.pyplot as plt\n",
    "\n",
    "ax = sns.displot(final_score, kind = 'kde')\n",
    "ax.set(xlim=(0, 15))\n",
    "plt.show()"
   ]
  },
  {
   "cell_type": "code",
   "execution_count": null,
   "id": "afe3e7c8",
   "metadata": {},
   "outputs": [],
   "source": [
    "with open('UAms-2-AR.json', w) as f:\n",
    "    f.write(results)"
   ]
  }
 ],
 "metadata": {
  "kernelspec": {
   "display_name": "Python 3 (ipykernel)",
   "language": "python",
   "name": "python3"
  },
  "language_info": {
   "codemirror_mode": {
    "name": "ipython",
    "version": 3
   },
   "file_extension": ".py",
   "mimetype": "text/x-python",
   "name": "python",
   "nbconvert_exporter": "python",
   "pygments_lexer": "ipython3",
   "version": "3.10.0"
  }
 },
 "nbformat": 4,
 "nbformat_minor": 5
}
