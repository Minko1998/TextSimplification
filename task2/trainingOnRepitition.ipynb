{
 "cells": [
  {
   "cell_type": "markdown",
   "id": "b11997fb",
   "metadata": {},
   "source": [
    "Written by Mink Spronk (GitHub: Minko1998) for SimpleText @ CLEF 2022"
   ]
  },
  {
   "cell_type": "code",
   "execution_count": 27,
   "id": "d4eb794f",
   "metadata": {},
   "outputs": [
    {
     "data": {
      "text/html": [
       "<div>\n",
       "<style scoped>\n",
       "    .dataframe tbody tr th:only-of-type {\n",
       "        vertical-align: middle;\n",
       "    }\n",
       "\n",
       "    .dataframe tbody tr th {\n",
       "        vertical-align: top;\n",
       "    }\n",
       "\n",
       "    .dataframe thead th {\n",
       "        text-align: right;\n",
       "    }\n",
       "</style>\n",
       "<table border=\"1\" class=\"dataframe\">\n",
       "  <thead>\n",
       "    <tr style=\"text-align: right;\">\n",
       "      <th></th>\n",
       "      <th>Unnamed: 0</th>\n",
       "      <th>snt_id</th>\n",
       "      <th>source_snt</th>\n",
       "      <th>doc_id</th>\n",
       "      <th>query_id</th>\n",
       "      <th>query_text</th>\n",
       "    </tr>\n",
       "  </thead>\n",
       "  <tbody>\n",
       "    <tr>\n",
       "      <th>0</th>\n",
       "      <td>0</td>\n",
       "      <td>G01.2_1448624402_1</td>\n",
       "      <td>As extensive experimental research has shown i...</td>\n",
       "      <td>1448624402</td>\n",
       "      <td>G01.2</td>\n",
       "      <td>Biases</td>\n",
       "    </tr>\n",
       "    <tr>\n",
       "      <th>1</th>\n",
       "      <td>1</td>\n",
       "      <td>G01.2_1448624402_1</td>\n",
       "      <td>As extensive experimental research has shown i...</td>\n",
       "      <td>1448624402</td>\n",
       "      <td>G01.2</td>\n",
       "      <td>Biases</td>\n",
       "    </tr>\n",
       "    <tr>\n",
       "      <th>2</th>\n",
       "      <td>2</td>\n",
       "      <td>G01.2_1448624402_2</td>\n",
       "      <td>In our paper we analyze the effects of decisio...</td>\n",
       "      <td>1448624402</td>\n",
       "      <td>G01.2</td>\n",
       "      <td>Biases</td>\n",
       "    </tr>\n",
       "    <tr>\n",
       "      <th>3</th>\n",
       "      <td>3</td>\n",
       "      <td>G01.2_1448624402_2</td>\n",
       "      <td>In our paper we analyze the effects of decisio...</td>\n",
       "      <td>1448624402</td>\n",
       "      <td>G01.2</td>\n",
       "      <td>Biases</td>\n",
       "    </tr>\n",
       "    <tr>\n",
       "      <th>4</th>\n",
       "      <td>4</td>\n",
       "      <td>G01.2_1448624402_3</td>\n",
       "      <td>In the simulations, managerial decisions which...</td>\n",
       "      <td>1448624402</td>\n",
       "      <td>G01.2</td>\n",
       "      <td>Biases</td>\n",
       "    </tr>\n",
       "  </tbody>\n",
       "</table>\n",
       "</div>"
      ],
      "text/plain": [
       "   Unnamed: 0              snt_id  \\\n",
       "0           0  G01.2_1448624402_1   \n",
       "1           1  G01.2_1448624402_1   \n",
       "2           2  G01.2_1448624402_2   \n",
       "3           3  G01.2_1448624402_2   \n",
       "4           4  G01.2_1448624402_3   \n",
       "\n",
       "                                          source_snt      doc_id query_id  \\\n",
       "0  As extensive experimental research has shown i...  1448624402    G01.2   \n",
       "1  As extensive experimental research has shown i...  1448624402    G01.2   \n",
       "2  In our paper we analyze the effects of decisio...  1448624402    G01.2   \n",
       "3  In our paper we analyze the effects of decisio...  1448624402    G01.2   \n",
       "4  In the simulations, managerial decisions which...  1448624402    G01.2   \n",
       "\n",
       "  query_text  \n",
       "0     Biases  \n",
       "1     Biases  \n",
       "2     Biases  \n",
       "3     Biases  \n",
       "4     Biases  "
      ]
     },
     "execution_count": 27,
     "metadata": {},
     "output_type": "execute_result"
    }
   ],
   "source": [
    "import pandas as pd\n",
    "import numpy as np\n",
    "df = pd.read_csv(\"simpletext_task2_train.csv\")\n",
    "df.head()"
   ]
  },
  {
   "cell_type": "code",
   "execution_count": 69,
   "id": "8d02ab41",
   "metadata": {},
   "outputs": [],
   "source": [
    "df = df.drop_duplicates(subset = ['source_snt'])\n",
    "text = df.source_snt.to_list()\n",
    "word_count = {}\n",
    "\n",
    "for line in text:\n",
    "    line = line.split()\n",
    "    for word in line:\n",
    "        word.strip()\n",
    "        if word not in word_count:\n",
    "            word_count[word] = 1\n",
    "        else:\n",
    "            word_count[word] += 1\n",
    "word_count = dict(sorted(word_count.items(), key=lambda item: item[1], reverse = True))\n",
    "word_count"
   ]
  },
  {
   "cell_type": "code",
   "execution_count": null,
   "id": "a4824950",
   "metadata": {},
   "outputs": [],
   "source": []
  },
  {
   "cell_type": "code",
   "execution_count": 71,
   "id": "fb46d51d",
   "metadata": {},
   "outputs": [],
   "source": [
    "# \n",
    "import spacy\n",
    "from bisect import insort\n",
    "\n",
    "sp = spacy.load('en_core_web_sm')\n",
    "scores = {}\n",
    "per_line = []\n",
    "for i, line in enumerate(df.source_snt):\n",
    "    \n",
    "    line.split()\n",
    "    for j, word in enumerate(line):\n",
    "        word.strip()\n",
    "        score = word_count[word]\n",
    "        \n",
    "        \n",
    "        "
   ]
  }
 ],
 "metadata": {
  "kernelspec": {
   "display_name": "Python 3 (ipykernel)",
   "language": "python",
   "name": "python3"
  },
  "language_info": {
   "codemirror_mode": {
    "name": "ipython",
    "version": 3
   },
   "file_extension": ".py",
   "mimetype": "text/x-python",
   "name": "python",
   "nbconvert_exporter": "python",
   "pygments_lexer": "ipython3",
   "version": "3.10.0"
  }
 },
 "nbformat": 4,
 "nbformat_minor": 5
}
